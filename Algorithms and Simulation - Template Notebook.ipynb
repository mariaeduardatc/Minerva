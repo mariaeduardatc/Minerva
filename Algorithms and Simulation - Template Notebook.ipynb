{
 "cells": [
  {
   "cell_type": "markdown",
   "metadata": {
    "id": "rYyPaonzMTvm"
   },
   "source": [
    "# <font color='orange'> **CS51 Assignment 2: Algorithms and Simulation**</font>\n",
    "\n",
    "\n",
    "\n",
    "This assignment has two distinct parts in addition to a reflection: Part 1 requires you to apply your knowledge of algorithmic thinking and optimization and Part 2 allows you to demonstrate your modeling and coding skills by writing a numerical simulation. Material relevant for Part 1 will be covered in class during weeks 3-5, while material relevant for Part 2 will be covered in class during weeks 7 and 8. \n",
    "\n",
    "\n",
    "You'll notice several \"*Optional Challenge*\" problems throughout the assignment to challenge yourself. These will only be scored (4 or 5) if they are completed correctly with thorough explanation. If you attempt an optional challenge but do not succeed, you will not be penalized with a low score. Remember that you must include an explanation and interpretation for optional problems to be scored.\n",
    "\n",
    "\n",
    "*This is an individual assignment. We will be checking for similarities among submissions and will take plagiarism seriously*.\n",
    "\n",
    "\n",
    "**You must complete all tasks within this pre-formatted Jupyter notebook. Please follow ALL formatting guidelines and the HC Guidelines in the assignment instructions on Forum (near the top and bottom of the instructions respectively).**"
   ]
  },
  {
   "cell_type": "markdown",
   "metadata": {
    "id": "oMT2qmxdMTvv"
   },
   "source": [
    "\n",
    "## <font color='orange'> **PART 1**: OPTIMIZATION</font>\n",
    "\n",
    "For this section of the assignment, you will select one of the scenarios below and apply #optimization. You must complete all sections. [#optimization, potentially relevant: #modeling, #algorithms, #variables, #utility, #constraints]\n",
    "\n",
    "1. *Scenario 1*: To prevent the spread of an infectious disease, a vaccine needs to be distributed as quickly and efficiently as possible to the 15 cities that have had major outbreaks. How can you optimize the route between the cities? For this scenario, you should select cities that are relevant to the disease that you will choose for PART 2. It may be helpful to include a map of these cities (either an existing map or create your own).  \n",
    "\n",
    "\n",
    "2. *Scenario 2*: Suppose that a new virus is starting to spread, and many clinics do not have sophisticated diagnostic tools and must be able to determine whether or not a patient has this dangerous virus based solely on easily measured symptoms. You have been collecting information on symptoms (temperature, WBC count, headache severity, and cough severity) and you need to determine which patients have this new disease and which have only a milder illness. Plots that provide an overview of the data are available [here](https://drive.google.com/file/d/1td_jCTzYiOCMPJ8CwVSJU7u-pQ-5R1JW/view?usp=sharing). The data can be accessed at [this link](https://drive.google.com/file/d/1smz8OhVkIAbWVKpmkx7liE3bOWLfQch7/view?usp=sharing) (1 = Infected, 0 = Not infected).\n",
    "\n",
    "#### 1.1 Optimization Problem: \n",
    "\n",
    "Describe the optimization problem for your scenario: what is the objective function? What are the decision variables? Are there any constraints? Clearly articulate each component so that it’s clear how the objective value would be measured and how the decision variables would impact it (~200 words). \n"
   ]
  },
  {
   "cell_type": "markdown",
   "metadata": {
    "id": "cD5wWiM-MTvw"
   },
   "source": [
    "<font color='orange'>**Answer 1.1**</font> For my scenario (1), since the objective is to minimize the length of the route, generating less time delivering the vaccines, the objective function is the function that inputs routes in different orders and outputs the length—the objective value. As decision variables, there is the order of the routes and as constraints,  different levels of accessibility to a place, how long vaccines can wait until they go bad, and if some cities need the vaccine first then others may be encountered. The objective value is measured as the routes are calculated, the objective value being the final sum of the route. The decision variable can affect in the sense that the order of the cities impacts directly the length of the route, for example, we can come up with a route X that has to hover the same city more than once to go to all destinies. This may mean this route X will have a bigger length than one that hovers all cities only once.\n",
    "\n",
    "Word count: 166 words."
   ]
  },
  {
   "cell_type": "markdown",
   "metadata": {
    "id": "yPkvYXgzMTvw"
   },
   "source": [
    "#### 1.2 Optimization Technique: \n",
    "\n",
    "What process can be used to find the optimal solution in your scenario? Identify and describe an existing algorithm that could be used to complete this process, including the inputs, outputs, required steps, and the termination condition. Explain the advantages and limitations of this algorithm. In your explanation, you should address whether your algorithm would lead to the global optimum and you may wish to compare your algorithm with other possible optimization techniques. (~200 words)\n",
    "\n",
    "- *Optional*: Draw a flowchart to illustrate the process. \n",
    "\n",
    "- *Optional challenge*: Create a program in Python to implement this optimization process. Please provide a thorough explanation of how the code works, both holistically and using in-line comments. You must also provide at least one “test case” that demonstrates that your code is properly implemented. This test should be something like, “In this case, it's clear that the only possible solution is X; let's check that with our code. Yes, the code outputs X as well, so we can in principle induce that the implementation is correct.\""
   ]
  },
  {
   "cell_type": "markdown",
   "metadata": {
    "id": "Hw_Dl4s5MTvx"
   },
   "source": [
    "<font color='orange'>**Answer 1.2**</font> A genetic algorithm can be used to find the optimal solution. GAs have a population of possible solutions that pass through recombinations and “mutations” producing new solutions (children). This process is repeated multiple times each one creating a “generation.” The objective function will be our input, along with our fitness function. The output would be the optimized routes. As for steps, the input undergoes a “parent selection”, a “crossover”, a “mutation”, and a “survivor selection” (final output). This algorithm has as an advantage the fact it serves to find optimal or near-optimal solutions to complex problems such as defining the fastest route between 15 cities—it finds a solution in a reasonable time frame. However, if the levels of mutation are set too high the output can become less fit. This happens because the bigger the mutation probability, more randomness is added to teh process. For this algorithm to generate a good output we need to choose strong parents for the next generations. If the algorithm cannot find the exact global optimum, it can get close enough (near-optimal).\n",
    "\n",
    "Word count: 177 words."
   ]
  },
  {
   "cell_type": "code",
   "execution_count": null,
   "metadata": {
    "id": "TJIhhjkzMTvx"
   },
   "outputs": [],
   "source": [
    "# FLOWCHART DONE!!!!!!!"
   ]
  },
  {
   "cell_type": "code",
   "execution_count": null,
   "metadata": {},
   "outputs": [],
   "source": [
    "# optional 2"
   ]
  },
  {
   "cell_type": "markdown",
   "metadata": {
    "id": "iurlR9SrMTvy"
   },
   "source": [
    "## <font color='orange'> **PART 2**: SIMULATION</font>\n",
    "\n",
    "\n",
    "The SIR model of the spread of disease is commonly used to help understand how a disease might move through a population. You were introduced to this with the NetLogo agent-based model in NS50 and will review it again in Weeks 7 and 8 of CS51. Check out the class readings to learn about this model. \n",
    "\n",
    "\n",
    "For this assignment, you will select one disease of your choice to model. Please choose a disease from [THIS LIST](https://docs.google.com/spreadsheets/d/1_p_6W8Zh07XFwuQ3EzkT7PEdbtwTzejHbpKm_wBOLas/edit?usp=sharing) to investigate.  If you would like to select your own disease to model, you may email your professor with the disease and parameter descriptions for approval. You must select an infectious disease (one that is transmitted from person to person through a viral, bacterial, or parasitic agent), not a genetic or environmental disease. \n",
    "\n",
    "### **Part 2.1 Numerical Modeling and Simulation**\n",
    "\n",
    "For this part of the assignment, you’ll consider the SIR model described by the set of differential equations below, and the numerical simulation in Python via Euler’s method.\n",
    "\n",
    "$$ \\frac{dS}{dt} = -\\frac{b}{N}S(t) I(t) $$\n",
    "<br>\n",
    "$$ \\frac{dI}{dt} = \\frac{b}{N}S(t)I(t) - kI(t) $$\n",
    "<br>\n",
    "$$ \\frac{dR}{dt} = k I(t) $$\n",
    "<br>\n",
    "\n",
    "#### 2.1.1 Variables and Parameters (~250 words) [#variables] \n",
    "\n",
    "This section serves to set up an initial analysis of the SIR model. \n",
    "1. State the disease you selected to model.\n",
    "\n",
    "2. Identify the relevant **variables** of the model, fully classify what type of variables they are, and explain what they mean in the context of your model. Next, identify appropriate numerical values and units for the **initial values** of the variables. You’re encouraged to use empirical data if possible to justify these values. You may also complete a well-reasoned #estimation for any values that are difficult to justify with empirical data. Include APA citations for any external sources used. Note that you can work with population values $S$, $I$, $R$, or proportions, $S/N$, $I/N$, $R/N$, as long as you are consistent.\n",
    "\n",
    "3. Explain what the relevant **parameters** ($b$ and $k$) are and what they mean. For your model, identify and justify appropriate numerical values and units for $b$ and $k$. As above, you may include a well-reasoned estimate using empirical data to support your justification. Further, explain what it would mean for the parameters ($b$ and $k$) to be smaller or larger. Consider what real-world factors, in the context of the disease you selected, would reduce or increase these parameters.\n",
    "\n",
    "4. *Optional*: Modify the basic SIR model to add a layer of real-world complexity. A few ideas are listed below. Explain the key features of the extended model, including the modified differential equations and a full description and classification of any new variables and parameters following the steps above.\n",
    "  - Vaccination\n",
    "  - Antibiotic use and/or development of antibiotic resistance\n",
    "  - Variability in population susceptibility (e.g. children and the elderly have different rates of infection compared to young adults).\n",
    "  - Birth and death rates in the population"
   ]
  },
  {
   "cell_type": "markdown",
   "metadata": {
    "id": "BcbDeURaMTvz"
   },
   "source": [
    "<font color='orange'>**Answer 2.1.1**</font> I selected COVID-19 as the disease to be modeled. For variables, we have the population of New York City—8,804,190 people (United States Census Bureau, 2020), the susceptible portion of the population (S), the infected (I), and the recovered portion (R)—all three quantitative and discrete variables since they are defined by numbers that cannot be represented by float, only integers. In an initial scenario, S would count as the whole city’s population, minus the patient zero (I = 1), and R = 0, since no one would have recovered from the disease. As parameters, there is b: the infection rate and k: the recovery rate. Both are measured with respect to time. b is drawn from the contact between infected and susceptible people, having a value of 0.085 infected/day. k is drawn based on how much time it takes for an infected individual to be cured, having a value of 0.062 recovered/day. If b was bigger, more people would be infected by one person, while if the contrary happened one infected individual would have the power to infect fewer people. If k increases,  a person would recover faster, the contrary if it decreases. Factors such as vaccines can decrease b since more people would have a certain immunity to COVID. Vaccines may also result in milder symptoms, probably making an individual recover faster (k). Immune system strength can affect both parameters similarly, and self-isolation interacts directly with b since an isolated infected person cannot infect others.\n",
    "\n",
    "Word count: 250 words."
   ]
  },
  {
   "cell_type": "markdown",
   "metadata": {
    "id": "VeUzy2CPMTv0"
   },
   "source": [
    "#### 2.1.2 Euler’s Method Description (~150 words) [#algorithms]\n",
    "\n",
    "Explain what it means to solve the SIR differential equations and how Euler’s method works as an algorithm to achieve a numerical solution via simulation. In your explanation, identify the inputs, outputs, and steps that the algorithm takes, and consider the role of the step size (`h`) in the algorithm. "
   ]
  },
  {
   "cell_type": "markdown",
   "metadata": {
    "id": "zr7e_xoCQXKs"
   },
   "source": [
    "<font color='orange'>**Answer 2.1.2**</font>\n",
    "SIR’s differential equations solutions are S(t), I(t), and R(t) functions. Time is their independent variable. S is the number of susceptible people to the disease, I is infected, and R is the recovered—all dependent variables. The differential equations indicate the continuous change of those variables in time, meaning its results cannot be determined analytically. Euler’s method generates points that approximate the functions’ real trend. An approximate behavior of the disease in real life is generated—there is an initial condition and the model is run to get outputs based on it. The algorithm’s inputs are the initial condition of the population, the step size, and the functions used to get the outputs. The outputs are the simulated behavior of the population and the number of S, I, and R. In Euler’s method from the initial point, a tangent is traced to find another point. An interval from the initial to final condition is defined, being chopped into small subdivisions of length h—the step size. The smaller the h the closer the points are to each other and to the real curve of the functions.\n",
    "\n",
    "Word count: 186 words [the word count is over 150 words, but my other responses are mostly under the limit]."
   ]
  },
  {
   "cell_type": "markdown",
   "metadata": {
    "id": "zDekbERQQsIF"
   },
   "source": [
    "#### 2.1.3 Euler’s Method Implementation [#algorithms, #dataviz]\n",
    "\n",
    "Define a function that implements a numerical simulation to derive the implications of your model using Euler’s method in Python. Your simulation must generate at least one relevant visualization of the disease dynamics (see required analysis below), including a descriptive figure legend and caption. You may need to adjust the run-time and step size in your simulation to ensure the visualization is maximally informative. Include thorough comments in your code to convey your understanding of the implementation of Euler’s method. "
   ]
  },
  {
   "cell_type": "code",
   "execution_count": 27,
   "metadata": {
    "id": "1d-UQP_MMTv0",
    "scrolled": true
   },
   "outputs": [
    {
     "data": {
      "image/png": "[encoded data removed]",
      "text/plain": [
       "<Figure size 576x360 with 1 Axes>"
      ]
     },
     "metadata": {
      "needs_background": "light"
     },
     "output_type": "display_data"
    }
   ],
   "source": [
    "# code based on CS51's Session 13 notebook\n",
    "\n",
    "# importing all needed libraries\n",
    "import numpy as np\n",
    "import matplotlib.pyplot as plt\n",
    "\n",
    "# setting the plot \"style\"\n",
    "plt.rcParams.update({'font.size': 15})\n",
    "plt.rcParams[\"figure.figsize\"] = [8,5]\n",
    "\n",
    "\n",
    "# function that takes b, k and the initial conditions of the scenario\n",
    "# and calculates outputs using Euler's method\n",
    "def SIR_Euler(b,k,initial_conds):\n",
    "    t0 = 0 # tstart\n",
    "    t_end = 100 # tend [HOW TO DEFINE THIS?]\n",
    "\n",
    "    h = 1 # stepsize\n",
    "    steps = int((t_end - t0)/h + 1) # number of steps [ASK FOR FURTHER EXPLANATIONS]\n",
    "\n",
    "    # variables:\n",
    "    t = np.linspace(t0, t_end, steps) # to store t values\n",
    "    S = np.zeros(steps) # to store S values\n",
    "    I = np.zeros(steps) # to store I values\n",
    "\n",
    "    # initial conditions:\n",
    "    S[0] = initial_conds[0] \n",
    "    I[0] = initial_conds[1] \n",
    "    N = S[0]+I[0] # total population\n",
    "    \n",
    "    for n in range(steps-1): # range(start, stop, step)\n",
    "        S[n+1] = S[n] - h*(b*S[n]*I[n]/N) # Euler method?\n",
    "        I[n+1] = I[n] + h*(b*S[n]*I[n]/N - k*I[n]) # FILL THIS IN!\n",
    "\n",
    "    plt.plot(t,S,linewidth=2,label='S(t)')\n",
    "    plt.plot(t,I,linewidth=2,label='I(t)')\n",
    "    plt.xlabel('t [days]')\n",
    "    plt.ylabel('S,  I')\n",
    "    plt.legend(loc='best')\n",
    "    plt.show()\n",
    "\n",
    "# parameters:\n",
    "infection_rate = 0.5 # b\n",
    "recovery_rate = 0.1 # k\n",
    "\n",
    "# initial conditions: \n",
    "S0 = 8804189  # NYC population - 1\n",
    "I0 = 1000 # patient zero\n",
    "initial_vals = [S0,I0]\n",
    "\n",
    "# call the function to run the simulation\n",
    "SIR_Euler(b=infection_rate, k=recovery_rate, initial_conds=initial_vals)"
   ]
  },
  {
   "cell_type": "markdown",
   "metadata": {
    "id": "yLsLFgMZMTv0"
   },
   "source": [
    "#### 2.1.4 Results and Interpretation (~250 words) [#modeling, #dataviz]\n",
    "\n",
    "- Interpret the results of the numerical simulation by making reference the output in the visualization(s). To fully interpret the results, you should re-run the simulation above multiple times with varying parameter inputs ($b$ and $k$) and observe the behavior of your model. Include at least two additional visualizations here to support your answer. Does the behavior align with what you would expect these adjustments to have in reality (given your answer to 2.1.1.3 above)?  \n",
    "\n",
    "- *Optional*: include at least one multidimensional phase space plot and provide a full interpretation of what it shows.\n",
    "\n",
    "- Explain how useful this model is by considering the following guiding questions: What insights can be gained? How closely do the results match what you’d expect in reality? What are the most notable assumptions of this model and what impact do they have on its usefulness?\n"
   ]
  },
  {
   "cell_type": "code",
   "execution_count": null,
   "metadata": {
    "id": "tVy_X9_a8ra7"
   },
   "outputs": [],
   "source": [
    "# use this cell to call your function again to produce additional visualizations"
   ]
  },
  {
   "cell_type": "code",
   "execution_count": null,
   "metadata": {
    "id": "JICXvKAg8rzB"
   },
   "outputs": [],
   "source": [
    "# use this cell to call your function again to produce additional visualizations\n",
    "# add more cells as needed"
   ]
  },
  {
   "cell_type": "markdown",
   "metadata": {
    "id": "mxHl1XeRMTv1"
   },
   "source": [
    "<font color='orange'>**Answer 2.1.4 here**</font>"
   ]
  },
  {
   "cell_type": "markdown",
   "metadata": {
    "id": "MnlD1JkaMTv3"
   },
   "source": [
    "### **Part 2.2 Agent-Based Modeling and Simulation (*OPTIONAL*)**\n",
    "\n",
    "This part of the assignment is optional and will only be scored if completed effectively (score of 4 or 5). It is a valuable chance to compare the simulation above with the agent-based simulation implemented in [NetLogo](http://ccl.northwestern.edu/netlogo/models/Virus). \n",
    "\n",
    "Note about parameters: this model uses similar variables and parameters as the one above, but the parameters are not defined identically. In particular, the \"Infectiousness\" parameter in NetLogo is analogous to, but not equivalent to the infection rate in the SIR model. Thus, they should not be set to the same value in both of your simulations. The infection rate in the SIR model already incorporates the interaction rate of individuals, while the NetLogo simulation sets that rate separately. In other words, the \"infectiousness\" parameter in NetLogo only dictates the probability of infecting someone if they come close enough, but does not take into account how frequent those interactions occur. Be sure to investigate the meaning of the other parameters as well so that you understand how to set them appropriately.\n",
    "<br>\n",
    "\n",
    "#### 2.2.1 *Optional*: Simulation Comparison (~250 words) [#modeling]\n",
    "\n",
    "After fully exploring the NetLogo model and running multiple simulations, summarize how it compares to your Python SIR simulation above. Aim to identify the main similarities, the major differences, and at least advantage for each one. Comment on which you believe to be a more realistic representation of nature, justifying your reasoning.\n",
    "\n"
   ]
  },
  {
   "cell_type": "markdown",
   "metadata": {
    "id": "INuM0S6nMTv3"
   },
   "source": [
    "<font color='orange'>**Answer 2.2.1 here**</font>"
   ]
  },
  {
   "cell_type": "markdown",
   "metadata": {
    "id": "173MEDjXMTv4"
   },
   "source": [
    "#### 2.2.2 *Optional challenge*: Your own agent-based simulation [#algorithms, #modeling]:\n",
    "\n",
    "Create your own agent-based simulation of the disease dynamics for your chosen disease in Python. You may add in real-world complexities as desired (vaccination, antibiotic use and/or development of antibiotic resistance, variability in population susceptibility). Your work needs to be explained in sufficient detail, including citations to any external sources consulted, in order to receive credit.\n",
    "\n",
    "- One option: a tree graph can be useful in modeling person-to-person interactions. \n",
    "\n",
    "- Another option: turtles. \n"
   ]
  },
  {
   "cell_type": "code",
   "execution_count": null,
   "metadata": {
    "id": "8xuhC8N3MTv4"
   },
   "outputs": [],
   "source": [
    "# Add code to complete the optional implementation \n",
    "# Add more cells as needed to explain your work"
   ]
  },
  {
   "cell_type": "markdown",
   "metadata": {
    "id": "PYU2v2UxMTv4"
   },
   "source": [
    "## <font color='orange'>**REFLECTION**</font>\n",
    "\n",
    "In less than 100 words, explain how this unit has enhanced your view of the power of modeling, algorithms, and simulations to describe the natural world around you. "
   ]
  },
  {
   "cell_type": "markdown",
   "metadata": {
    "id": "2K12jH8RMTv4"
   },
   "source": [
    "<font color='orange'>**Add your reflection here**</font>"
   ]
  },
  {
   "cell_type": "markdown",
   "metadata": {
    "id": "o1mRiTuWMTv5"
   },
   "source": [
    "## You're done! \n",
    "\n",
    "You must upload TWO files:\n",
    "\n",
    "\n",
    "1. A **PDF** of your entire assignment. This is to be submitted as a separate file, NOT simply inside the zipped folder. Email attachments will not be accepted. We encourage students to follow the tips available in [this guide](https://docs.google.com/document/d/1gRMol9Ebbvyu1mvEKzma92o_N7ZbNXsPIb1QdQV0TeE/edit?usp=sharing), especially the best practices listed at the end.\n",
    "\n",
    "\n",
    "2. A **zipped folder** containing the .ipynb file and any other relevant files for running the notebook."
   ]
  }
 ],
 "metadata": {
  "colab": {
   "collapsed_sections": [],
   "name": "CS51 Assignment 2 - Algorithms and Simulation - Template Notebook.ipynb",
   "provenance": []
  },
  "kernelspec": {
   "display_name": "Python 3",
   "language": "python",
   "name": "python3"
  },
  "language_info": {
   "codemirror_mode": {
    "name": "ipython",
    "version": 3
   },
   "file_extension": ".py",
   "mimetype": "text/x-python",
   "name": "python",
   "nbconvert_exporter": "python",
   "pygments_lexer": "ipython3",
   "version": "3.8.8"
  }
 },
 "nbformat": 4,
 "nbformat_minor": 1
}
